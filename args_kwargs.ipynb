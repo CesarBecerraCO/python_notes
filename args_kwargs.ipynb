{
 "cells": [
  {
   "cell_type": "code",
   "execution_count": 20,
   "metadata": {},
   "outputs": [],
   "source": [
    "def varios(*args):\n",
    "    print(args)\n",
    "    print('--------------')\n",
    "    for a in args:\n",
    "        print(a)"
   ]
  },
  {
   "cell_type": "code",
   "execution_count": 21,
   "metadata": {},
   "outputs": [
    {
     "name": "stdout",
     "output_type": "stream",
     "text": [
      "('hola', 1, [2, 0])\n",
      "--------------\n",
      "hola\n",
      "1\n",
      "[2, 0]\n"
     ]
    }
   ],
   "source": [
    "varios('hola', 1, [2,0])"
   ]
  },
  {
   "cell_type": "code",
   "execution_count": null,
   "metadata": {},
   "outputs": [],
   "source": []
  },
  {
   "cell_type": "code",
   "execution_count": 22,
   "metadata": {},
   "outputs": [],
   "source": [
    "def varios_kv(**kwargs):\n",
    "    print(kwargs)\n",
    "    print('--------------')\n",
    "    for a in kwargs:\n",
    "        print(a)\n",
    "    print('--------------')\n",
    "    for k,v in kwargs.items():\n",
    "        print(f\"{k}: {v}\")"
   ]
  },
  {
   "cell_type": "code",
   "execution_count": 23,
   "metadata": {},
   "outputs": [
    {
     "name": "stdout",
     "output_type": "stream",
     "text": [
      "{'x': 'hola', 'points': 1, 'score': [2, 0]}\n",
      "--------------\n",
      "x\n",
      "points\n",
      "score\n",
      "--------------\n",
      "x: hola\n",
      "points: 1\n",
      "score: [2, 0]\n"
     ]
    }
   ],
   "source": [
    "varios_kv(x='hola', points=1, score=[2,0])"
   ]
  },
  {
   "cell_type": "code",
   "execution_count": 24,
   "metadata": {},
   "outputs": [],
   "source": [
    "def both(*args, **kwargs):\n",
    "    print('ARGS')\n",
    "    print(args)\n",
    "    print('--------------')\n",
    "    for a in args:\n",
    "        print(a)\n",
    "    print('\\nKWARGS')\n",
    "    print(kwargs)\n",
    "    print('--------------')\n",
    "    for a in kwargs:\n",
    "        print(a)\n",
    "    print('--------------')\n",
    "    for k,v in kwargs.items():\n",
    "        print(f\"{k}: {v}\")"
   ]
  },
  {
   "cell_type": "code",
   "execution_count": 25,
   "metadata": {},
   "outputs": [
    {
     "name": "stdout",
     "output_type": "stream",
     "text": [
      "ARGS\n",
      "('saludos', 0, [1, 1])\n",
      "--------------\n",
      "saludos\n",
      "0\n",
      "[1, 1]\n",
      "\n",
      "KWARGS\n",
      "{'x': 'hola', 'points': 1, 'score': [2, 0]}\n",
      "--------------\n",
      "x\n",
      "points\n",
      "score\n",
      "--------------\n",
      "x: hola\n",
      "points: 1\n",
      "score: [2, 0]\n"
     ]
    }
   ],
   "source": [
    "both('saludos', 0, [1,1], x='hola', points=1, score=[2,0])"
   ]
  },
  {
   "cell_type": "code",
   "execution_count": null,
   "metadata": {},
   "outputs": [],
   "source": []
  },
  {
   "cell_type": "code",
   "execution_count": null,
   "metadata": {},
   "outputs": [],
   "source": []
  }
 ],
 "metadata": {
  "kernelspec": {
   "display_name": "Python 3",
   "language": "python",
   "name": "python3"
  },
  "language_info": {
   "codemirror_mode": {
    "name": "ipython",
    "version": 3
   },
   "file_extension": ".py",
   "mimetype": "text/x-python",
   "name": "python",
   "nbconvert_exporter": "python",
   "pygments_lexer": "ipython3",
   "version": "3.8.3"
  }
 },
 "nbformat": 4,
 "nbformat_minor": 4
}
