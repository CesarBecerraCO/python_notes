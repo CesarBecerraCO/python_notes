{
 "cells": [
  {
   "cell_type": "code",
   "execution_count": 9,
   "metadata": {},
   "outputs": [],
   "source": [
    "class Device:\n",
    "    def __init__(self, codigo, tipo, puertos):\n",
    "        self.codigo = codigo\n",
    "        self.tipo = tipo\n",
    "        self.puertos = puertos\n",
    "\n",
    "    def __str__(self):\n",
    "        return f\"{self.tipo} has {self.puertos} port(s).\"\n",
    "\n",
    "    def __repr__(self):\n",
    "        return f\"{self.tipo} has {self.puertos} port(s), codigo: {self.codigo}\""
   ]
  },
  {
   "cell_type": "code",
   "execution_count": 10,
   "metadata": {},
   "outputs": [
    {
     "data": {
      "text/plain": [
       "'Gen has 1 port(s).'"
      ]
     },
     "execution_count": 10,
     "metadata": {},
     "output_type": "execute_result"
    }
   ],
   "source": [
    "dev1 = Device(1, \"Gen\", 1)\n",
    "f\"{dev1}\""
   ]
  },
  {
   "cell_type": "code",
   "execution_count": 11,
   "metadata": {},
   "outputs": [
    {
     "data": {
      "text/plain": [
       "'Gen has 1 port(s), codigo: 1'"
      ]
     },
     "execution_count": 11,
     "metadata": {},
     "output_type": "execute_result"
    }
   ],
   "source": [
    "f\"{dev1!r}\" # look at the conversion flag !r"
   ]
  },
  {
   "cell_type": "code",
   "execution_count": null,
   "metadata": {},
   "outputs": [],
   "source": []
  },
  {
   "cell_type": "code",
   "execution_count": 1,
   "metadata": {},
   "outputs": [],
   "source": [
    "class A:\n",
    "    def __init__(self):\n",
    "        print(\"Esto desde la clase A\")\n",
    "    \n",
    "    def a(self):\n",
    "        print(\"Artículo A\")\n",
    "        \n",
    "class B:\n",
    "    def __init__(self):\n",
    "        print(\"Esto desde la clase B\")\n",
    "        \n",
    "    def b(self):\n",
    "        print(\"Artículo B\")\n",
    "        \n",
    "class C(A, B):\n",
    "    pass\n",
    "\n",
    "class D (B, A, object):\n",
    "    pass"
   ]
  },
  {
   "cell_type": "code",
   "execution_count": 2,
   "metadata": {},
   "outputs": [
    {
     "name": "stdout",
     "output_type": "stream",
     "text": [
      "Esto desde la clase A\n",
      "Artículo A\n",
      "Artículo B\n"
     ]
    }
   ],
   "source": [
    "c=C()\n",
    "c.a()\n",
    "c.b()"
   ]
  },
  {
   "cell_type": "code",
   "execution_count": 3,
   "metadata": {},
   "outputs": [
    {
     "name": "stdout",
     "output_type": "stream",
     "text": [
      "Esto desde la clase B\n",
      "Artículo A\n",
      "Artículo B\n"
     ]
    }
   ],
   "source": [
    "d=D()\n",
    "d.a()\n",
    "d.b()"
   ]
  },
  {
   "cell_type": "code",
   "execution_count": 4,
   "metadata": {},
   "outputs": [
    {
     "data": {
      "text/plain": [
       "True"
      ]
     },
     "execution_count": 4,
     "metadata": {},
     "output_type": "execute_result"
    }
   ],
   "source": [
    "isinstance(d, A and B)"
   ]
  },
  {
   "cell_type": "code",
   "execution_count": 5,
   "metadata": {},
   "outputs": [
    {
     "data": {
      "text/plain": [
       "'D'"
      ]
     },
     "execution_count": 5,
     "metadata": {},
     "output_type": "execute_result"
    }
   ],
   "source": [
    "type(d).__name__"
   ]
  },
  {
   "cell_type": "code",
   "execution_count": 6,
   "metadata": {},
   "outputs": [
    {
     "data": {
      "text/plain": [
       "'D'"
      ]
     },
     "execution_count": 6,
     "metadata": {},
     "output_type": "execute_result"
    }
   ],
   "source": [
    "d.__class__.__name__"
   ]
  },
  {
   "cell_type": "code",
   "execution_count": null,
   "metadata": {},
   "outputs": [],
   "source": []
  },
  {
   "cell_type": "code",
   "execution_count": 13,
   "metadata": {},
   "outputs": [],
   "source": [
    "import math\n",
    "\n",
    "class Punto(object):\n",
    "    def __init__(self, x=0, y=0):\n",
    "        self.x = x\n",
    "        self.y = y\n",
    "        \n",
    "    def distOrigen(self):\n",
    "        return math.sqrt(self.x**2 + self.y**2)\n",
    "    \n",
    "    def vector(self, p):\n",
    "        dx, dy = (p.x - self.x, p.y - self.y)\n",
    "        print(f\"El vector entre ({self.x}, {self.y}) y {p} es ({dx}, {dy})\")\n",
    "    \n",
    "    def __str__(self):\n",
    "        return f\"({self.x}, {self.y})\"\n",
    "    \n",
    "class Circulo(Punto):\n",
    "    def __init__(self, x, y, r=0):\n",
    "        super(Circulo, self).__init__(x, y)\n",
    "        self.r = r\n",
    "    \n",
    "    #Esto es un ejemplo, pero no es necesario, desde la instancia se puede\n",
    "    #llamar directamente al método distOrigen() de la superclase\n",
    "    def dist(self):\n",
    "        return self.distOrigen()\n",
    "    \n",
    "    def area(self):\n",
    "        return math.pi*self.r**2\n",
    "    \n",
    "    def __str__(self):\n",
    "        return f\"Centro: \" + super(Circulo, self).__str__() + f\", r: {self.r}, a: {self.area()}\"\n",
    "    \n",
    "    #Esto sobrescribe el método vector() de la superclase, es solo un ejemplo\n",
    "    def vector(self, p):\n",
    "        dx, dy = (p.x - self.x, p.y - self.y)\n",
    "        print( f\"VECTOR ({self.x}, {self.y}) -> {p} : ({dx}, {dy})\")"
   ]
  },
  {
   "cell_type": "code",
   "execution_count": 14,
   "metadata": {},
   "outputs": [
    {
     "name": "stdout",
     "output_type": "stream",
     "text": [
      "Centro: (2, 3), r: 2, a: 12.566370614359172\n"
     ]
    }
   ],
   "source": [
    "c = Circulo(2, 3, 2)\n",
    "print(c)"
   ]
  },
  {
   "cell_type": "code",
   "execution_count": 15,
   "metadata": {},
   "outputs": [
    {
     "name": "stdout",
     "output_type": "stream",
     "text": [
      "12.566370614359172\n",
      "3.605551275463989\n",
      "3.605551275463989\n"
     ]
    }
   ],
   "source": [
    "print(c.area())\n",
    "print(c.dist())\n",
    "print(c.distOrigen())"
   ]
  },
  {
   "cell_type": "code",
   "execution_count": null,
   "metadata": {},
   "outputs": [],
   "source": []
  },
  {
   "cell_type": "code",
   "execution_count": 46,
   "metadata": {},
   "outputs": [
    {
     "data": {
      "text/plain": [
       "True"
      ]
     },
     "execution_count": 46,
     "metadata": {},
     "output_type": "execute_result"
    }
   ],
   "source": [
    "s=\"El padrino\"\n",
    "s.__contains__('a')"
   ]
  },
  {
   "cell_type": "code",
   "execution_count": 95,
   "metadata": {},
   "outputs": [],
   "source": [
    "class Peli:\n",
    "    \n",
    "    def __init__(self, titulo, duracion, lanzamiento):\n",
    "        self.titulo = titulo\n",
    "        self.duracion = duracion\n",
    "        self.lanzamiento = lanzamiento\n",
    "        print(f\"Se acaba de crear la pelicula {self.titulo}\")\n",
    "        \n",
    "    def __len__(self):\n",
    "        return self.duracion\n",
    "    \n",
    "    def __str__(self):\n",
    "        return f'{self.titulo} ({self.lanzamiento})'    \n",
    "\n",
    "    \n",
    "class Catalogo:\n",
    "    peliculas = []\n",
    "    \n",
    "    def __init__(self, peliculas=[]):\n",
    "        self.peliculas = peliculas\n",
    "    \n",
    "    def agregar(self, p):\n",
    "        self.peliculas.append(p)\n",
    "    \n",
    "    def vertodo(self):\n",
    "        for p in self.peliculas:\n",
    "            print(p)\n",
    "            \n",
    "    def buscar_titulo(self, t):\n",
    "        coincidencias = filter(lambda peli: peli.titulo.find(t)>=0, self.peliculas)\n",
    "        return coincidencias"
   ]
  },
  {
   "cell_type": "code",
   "execution_count": 96,
   "metadata": {},
   "outputs": [
    {
     "name": "stdout",
     "output_type": "stream",
     "text": [
      "Se acaba de crear la pelicula Padrino 1\n"
     ]
    }
   ],
   "source": [
    "p1 = Peli(\"Padrino 1\", 175, 1972)"
   ]
  },
  {
   "cell_type": "code",
   "execution_count": 97,
   "metadata": {},
   "outputs": [
    {
     "name": "stdout",
     "output_type": "stream",
     "text": [
      "Se acaba de crear la pelicula Padrino 2\n"
     ]
    }
   ],
   "source": [
    "p2 = Peli(\"Padrino 2\", 202, 1974)"
   ]
  },
  {
   "cell_type": "code",
   "execution_count": 98,
   "metadata": {},
   "outputs": [
    {
     "name": "stdout",
     "output_type": "stream",
     "text": [
      "Padrino 1 (1972)\n"
     ]
    }
   ],
   "source": [
    "c = Catalogo([p1])\n",
    "c.vertodo()"
   ]
  },
  {
   "cell_type": "code",
   "execution_count": 99,
   "metadata": {},
   "outputs": [],
   "source": [
    "p2.lanzamiento = 2020"
   ]
  },
  {
   "cell_type": "code",
   "execution_count": 100,
   "metadata": {},
   "outputs": [
    {
     "name": "stdout",
     "output_type": "stream",
     "text": [
      "Padrino 1 (1972)\n",
      "Padrino 2 (2020)\n"
     ]
    }
   ],
   "source": [
    "c.agregar(p2)\n",
    "c.vertodo()"
   ]
  },
  {
   "cell_type": "code",
   "execution_count": 101,
   "metadata": {},
   "outputs": [
    {
     "name": "stdout",
     "output_type": "stream",
     "text": [
      "Se acaba de crear la pelicula Padrino 3\n",
      "Padrino 1 (1972)\n",
      "Padrino 2 (2020)\n",
      "Padrino 3 (1979)\n"
     ]
    }
   ],
   "source": [
    "c.agregar(Peli(\"Padrino 3\", 155, 1979))\n",
    "c.vertodo()"
   ]
  },
  {
   "cell_type": "code",
   "execution_count": 110,
   "metadata": {},
   "outputs": [],
   "source": [
    "pelis_interes = c.buscar_titulo('1')"
   ]
  },
  {
   "cell_type": "code",
   "execution_count": 111,
   "metadata": {},
   "outputs": [
    {
     "name": "stdout",
     "output_type": "stream",
     "text": [
      "Padrino 1 (1972)\n"
     ]
    }
   ],
   "source": [
    "for p in pelis_interes:\n",
    "    print(p)"
   ]
  },
  {
   "cell_type": "code",
   "execution_count": null,
   "metadata": {},
   "outputs": [],
   "source": []
  },
  {
   "cell_type": "code",
   "execution_count": 112,
   "metadata": {},
   "outputs": [
    {
     "data": {
      "text/plain": [
       "[<__main__.Peli at 0x1d16e608b20>,\n",
       " <__main__.Peli at 0x1d16e55bb20>,\n",
       " <__main__.Peli at 0x1d16e608190>]"
      ]
     },
     "execution_count": 112,
     "metadata": {},
     "output_type": "execute_result"
    }
   ],
   "source": [
    "c.peliculas"
   ]
  },
  {
   "cell_type": "code",
   "execution_count": 113,
   "metadata": {},
   "outputs": [],
   "source": [
    "pelis_gt_1978 = filter(lambda peli: peli.lanzamiento > 1978, c.peliculas)"
   ]
  },
  {
   "cell_type": "code",
   "execution_count": 114,
   "metadata": {},
   "outputs": [
    {
     "name": "stdout",
     "output_type": "stream",
     "text": [
      "Padrino 2 (2020)\n",
      "Padrino 3 (1979)\n"
     ]
    }
   ],
   "source": [
    "for p in pelis_gt_1978:\n",
    "    print(p)"
   ]
  },
  {
   "cell_type": "code",
   "execution_count": 115,
   "metadata": {},
   "outputs": [],
   "source": [
    "pelis_gt_1978 = filter(lambda peli: peli.lanzamiento > 1978, c.peliculas)"
   ]
  },
  {
   "cell_type": "code",
   "execution_count": null,
   "metadata": {},
   "outputs": [],
   "source": []
  },
  {
   "cell_type": "code",
   "execution_count": 116,
   "metadata": {},
   "outputs": [
    {
     "data": {
      "text/plain": [
       "[175, 202, 155]"
      ]
     },
     "execution_count": 116,
     "metadata": {},
     "output_type": "execute_result"
    }
   ],
   "source": [
    "duraciones_min = [peli.duracion for peli in c.peliculas]\n",
    "duraciones_min"
   ]
  },
  {
   "cell_type": "code",
   "execution_count": 117,
   "metadata": {},
   "outputs": [],
   "source": [
    "def min_to_horas(dur_min):\n",
    "    return dur_min / 60"
   ]
  },
  {
   "cell_type": "code",
   "execution_count": 118,
   "metadata": {},
   "outputs": [
    {
     "data": {
      "text/plain": [
       "[2.9166666666666665, 3.3666666666666667, 2.5833333333333335]"
      ]
     },
     "execution_count": 118,
     "metadata": {},
     "output_type": "execute_result"
    }
   ],
   "source": [
    "list( map(min_to_horas, duraciones_min) )"
   ]
  },
  {
   "cell_type": "code",
   "execution_count": null,
   "metadata": {},
   "outputs": [],
   "source": []
  }
 ],
 "metadata": {
  "kernelspec": {
   "display_name": "Python 3",
   "language": "python",
   "name": "python3"
  },
  "language_info": {
   "codemirror_mode": {
    "name": "ipython",
    "version": 3
   },
   "file_extension": ".py",
   "mimetype": "text/x-python",
   "name": "python",
   "nbconvert_exporter": "python",
   "pygments_lexer": "ipython3",
   "version": "3.8.3"
  }
 },
 "nbformat": 4,
 "nbformat_minor": 4
}
