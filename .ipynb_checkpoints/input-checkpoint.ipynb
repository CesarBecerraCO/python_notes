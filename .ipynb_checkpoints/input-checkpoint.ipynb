{
 "cells": [
  {
   "cell_type": "code",
   "execution_count": 19,
   "metadata": {},
   "outputs": [],
   "source": [
    "import cmath\n",
    "\n",
    "def solveq(a,b,c):\n",
    "    D = b**2 - 4*a*c\n",
    "    x1 = (-b - cmath.sqrt(D)) / (2*a)\n",
    "    x2 = (-b + cmath.sqrt(D)) / (2*a)\n",
    "    return x1, x2"
   ]
  },
  {
   "cell_type": "code",
   "execution_count": 20,
   "metadata": {},
   "outputs": [
    {
     "name": "stdout",
     "output_type": "stream",
     "text": [
      "Valor para a: 1\n",
      "Valor para b: -4\n",
      "Valor para c: 3\n"
     ]
    }
   ],
   "source": [
    "a = float( input(\"Valor para a: \") ) #1\n",
    "b = float( input(\"Valor para b: \") ) #-4\n",
    "c = float( input(\"Valor para c: \") ) #3"
   ]
  },
  {
   "cell_type": "code",
   "execution_count": 21,
   "metadata": {},
   "outputs": [
    {
     "name": "stdout",
     "output_type": "stream",
     "text": [
      "Roots:\n",
      "x1 = (1+0j)\n",
      "x2 = (3+0j)\n"
     ]
    }
   ],
   "source": [
    "sol = solveq(a,b,c)\n",
    "print('Roots:')\n",
    "print('x1 = %s' % sol[0]) #Ugly\n",
    "print('x2 = %s' % sol[1])"
   ]
  },
  {
   "cell_type": "code",
   "execution_count": 22,
   "metadata": {},
   "outputs": [
    {
     "name": "stdout",
     "output_type": "stream",
     "text": [
      "x1 = (1+0j)\n",
      "x2 = (3+0j)\n"
     ]
    }
   ],
   "source": [
    "print(\"x1 = {var}\".format(var=sol[0])) #Umm, also ugly\n",
    "print(\"x2 = {var}\".format(var=sol[1]))"
   ]
  },
  {
   "cell_type": "code",
   "execution_count": 23,
   "metadata": {},
   "outputs": [
    {
     "name": "stdout",
     "output_type": "stream",
     "text": [
      "x1 = (1+0j)\n",
      "x2 = (3+0j)\n"
     ]
    }
   ],
   "source": [
    "print(f\"x1 = {sol[0]}\") #Much better!\n",
    "print(f\"x2 = {sol[1]}\")"
   ]
  },
  {
   "cell_type": "code",
   "execution_count": 24,
   "metadata": {},
   "outputs": [
    {
     "name": "stdout",
     "output_type": "stream",
     "text": [
      "x1 = (1+0j)\n",
      "x2 = (3+0j)\n"
     ]
    }
   ],
   "source": [
    "print(\n",
    "    f\"x1 = {sol[0]}\" #Multiline\n",
    "    f\"\\nx2 = {sol[1]}\"\n",
    ")"
   ]
  },
  {
   "cell_type": "code",
   "execution_count": null,
   "metadata": {},
   "outputs": [],
   "source": []
  }
 ],
 "metadata": {
  "kernelspec": {
   "display_name": "Python 3",
   "language": "python",
   "name": "python3"
  },
  "language_info": {
   "codemirror_mode": {
    "name": "ipython",
    "version": 3
   },
   "file_extension": ".py",
   "mimetype": "text/x-python",
   "name": "python",
   "nbconvert_exporter": "python",
   "pygments_lexer": "ipython3",
   "version": "3.8.3"
  }
 },
 "nbformat": 4,
 "nbformat_minor": 4
}
